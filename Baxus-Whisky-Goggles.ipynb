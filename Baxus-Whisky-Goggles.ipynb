{
  "nbformat": 4,
  "nbformat_minor": 0,
  "metadata": {
    "colab": {
      "provenance": []
    },
    "kernelspec": {
      "name": "python3",
      "display_name": "Python 3"
    },
    "language_info": {
      "name": "python"
    }
  },
  "cells": [
    {
      "cell_type": "code",
      "source": [
        "## Install Dependencies\n",
        "!pip install faiss-cpu tensorflow opencv-python pandas tqdm requests"
      ],
      "metadata": {
        "id": "g1DjQCs8o4aI"
      },
      "execution_count": null,
      "outputs": []
    },
    {
      "cell_type": "code",
      "source": [
        "## Imports & Setup\n",
        "import os\n",
        "import pandas as pd\n",
        "import numpy as np\n",
        "import faiss\n",
        "import requests\n",
        "from tqdm import tqdm\n",
        "from tensorflow.keras.applications import MobileNetV2\n",
        "from tensorflow.keras.applications.mobilenet_v2 import preprocess_input\n",
        "from tensorflow.keras.preprocessing import image"
      ],
      "metadata": {
        "id": "G3uKZj5Do5Qj"
      },
      "execution_count": null,
      "outputs": []
    },
    {
      "cell_type": "code",
      "source": [
        "## Upload your `501-Bottle-Dataset.csv`\n",
        "from google.colab import files\n",
        "uploaded = files.upload()  # click “Choose Files” and pick your CSV"
      ],
      "metadata": {
        "id": "V5uCmL3Fo7iC"
      },
      "execution_count": null,
      "outputs": []
    },
    {
      "cell_type": "code",
      "source": [
        "## Load the Dataset\n",
        "csv_path = next(iter(uploaded.keys()))\n",
        "bottle_df = pd.read_csv(csv_path)\n",
        "bottle_df.head()"
      ],
      "metadata": {
        "id": "G0lJMLFMo9Xd"
      },
      "execution_count": null,
      "outputs": []
    },
    {
      "cell_type": "code",
      "source": [
        "## Download Bottle Images (robust to missing URLs)\n",
        "import pandas as pd\n",
        "import os\n",
        "import requests\n",
        "from tqdm import tqdm\n",
        "\n",
        "# Adjust these to your actual column names:\n",
        "URL_COL = 'image_url'\n",
        "ID_COL  = 'id'\n",
        "\n",
        "image_dir = 'bottle_images'\n",
        "os.makedirs(image_dir, exist_ok=True)\n",
        "\n",
        "for _, row in tqdm(bottle_df.iterrows(), total=len(bottle_df)):\n",
        "    url = row.get(URL_COL)\n",
        "    bid = row.get(ID_COL)\n",
        "\n",
        "    # Skip if URL or ID is missing\n",
        "    if pd.isna(url) or pd.isna(bid):\n",
        "        continue\n",
        "\n",
        "    # Make sure it's a string\n",
        "    url = str(url).strip()\n",
        "    if not url.lower().startswith(('http://', 'https://')):\n",
        "        continue\n",
        "\n",
        "    # Build a safe filename\n",
        "    ext = os.path.splitext(url)[1].split('?')[0] or '.jpg'\n",
        "    filename = f\"{int(bid)}{ext}\"\n",
        "    out_path = os.path.join(image_dir, filename)\n",
        "\n",
        "    # Download if not already present\n",
        "    if not os.path.exists(out_path):\n",
        "        try:\n",
        "            r = requests.get(url, stream=True, timeout=5)\n",
        "            r.raise_for_status()\n",
        "            with open(out_path, 'wb') as f:\n",
        "                for chunk in r.iter_content(1024):\n",
        "                    f.write(chunk)\n",
        "        except Exception as e:\n",
        "            print(f\"⚠️ Failed to download {url}: {e}\")"
      ],
      "metadata": {
        "id": "HADPZLvro_6c"
      },
      "execution_count": null,
      "outputs": []
    },
    {
      "cell_type": "code",
      "source": [
        "## Feature Extraction Function\n",
        "model = MobileNetV2(weights='imagenet', include_top=False, pooling='avg')\n",
        "\n",
        "def extract_features(img_path):\n",
        "    img = image.load_img(img_path, target_size=(224, 224))\n",
        "    x = image.img_to_array(img)\n",
        "    x = preprocess_input(np.expand_dims(x, axis=0))\n",
        "    feats = model.predict(x)\n",
        "    return feats[0].astype('float32')\n"
      ],
      "metadata": {
        "id": "eKEiAa-2pDK0"
      },
      "execution_count": null,
      "outputs": []
    },
    {
      "cell_type": "code",
      "source": [
        "## 🧬 Build FAISS Index\n",
        "\n",
        "# Extract all features\n",
        "features = []\n",
        "ids = []\n",
        "\n",
        "for _, row in tqdm(bottle_df.iterrows(), total=len(bottle_df)):\n",
        "    bid = row['id']\n",
        "    # find downloaded file\n",
        "    matches = [f for f in os.listdir(image_dir) if f.startswith(str(bid))]\n",
        "    if not matches:\n",
        "        continue\n",
        "    feats = extract_features(os.path.join(image_dir, matches[0]))\n",
        "    features.append(feats)\n",
        "    ids.append(bid)\n",
        "\n",
        "features = np.stack(features)\n",
        "\n",
        "# Create and populate FAISS index\n",
        "d = features.shape[1]\n",
        "index = faiss.IndexFlatL2(d)\n",
        "index.add(features)\n",
        "print(f\"Indexed {index.ntotal} bottles\")\n"
      ],
      "metadata": {
        "id": "f8fHu0aipE_Y"
      },
      "execution_count": null,
      "outputs": []
    },
    {
      "cell_type": "code",
      "source": [
        "## Evaluate Overall Accuracy over the Entire Dataset\n",
        "import os\n",
        "import pandas as pd\n",
        "\n",
        "ID_COL = 'id'\n",
        "\n",
        "# Settings\n",
        "top_k = 5\n",
        "results = []\n",
        "correct_top1 = 0\n",
        "correct_topk = 0\n",
        "total = 0\n",
        "\n",
        "# Loop through every downloaded image\n",
        "for fname in os.listdir(image_dir):\n",
        "    # Only consider files named like \"<id>.<ext>\"\n",
        "    try:\n",
        "        true_id = int(os.path.splitext(fname)[0])\n",
        "    except ValueError:\n",
        "        continue\n",
        "\n",
        "    img_path = os.path.join(image_dir, fname)\n",
        "    # Extract features & search\n",
        "    qf = extract_features(img_path).reshape(1, -1)\n",
        "    D, I = index.search(qf, top_k)\n",
        "    preds = [ids[i] for i in I[0]]\n",
        "\n",
        "    hit1 = (preds[0] == true_id)\n",
        "    hitk = (true_id in preds)\n",
        "\n",
        "    total += 1\n",
        "    correct_top1 += int(hit1)\n",
        "    correct_topk += int(hitk)\n",
        "\n",
        "    # Lookup metadata (e.g. Name, Price) if present\n",
        "    meta = bottle_df[bottle_df[ID_COL] == true_id].iloc[0].to_dict()\n",
        "    results.append({\n",
        "        'filename': fname,\n",
        "        'true_id': true_id,\n",
        "        'pred_top1': preds[0],\n",
        "        'hit_top1': hit1,\n",
        "        f'preds_top{top_k}': preds,\n",
        "        f'hit_top{top_k}': hitk,\n",
        "        **{k: meta[k] for k in meta if k not in (ID_COL,)}\n",
        "    })\n",
        "\n",
        "# Compute accuracies\n",
        "top1_acc = correct_top1 / total if total else 0\n",
        "topk_acc = correct_topk / total if total else 0\n",
        "\n",
        "print(f\"Evaluated {total} images\")\n",
        "print(f\"Top-1 Accuracy: {correct_top1}/{total} = {top1_acc:.2%}\")\n",
        "print(f\"Top-{top_k} Accuracy: {correct_topk}/{total} = {topk_acc:.2%}\")\n",
        "\n",
        "# Show detailed per-image results\n",
        "results_df = pd.DataFrame(results)\n",
        "results_df.head(10)  # show the first 10 rows; adjust as desired\n"
      ],
      "metadata": {
        "id": "adztDIcMsPRo"
      },
      "execution_count": null,
      "outputs": []
    },
    {
      "cell_type": "code",
      "source": [
        "## Accuracy Visualization and Report\n",
        "import matplotlib.pyplot as plt\n",
        "import pandas as pd\n",
        "\n",
        "# Prepare metrics (these variables should already be defined in your notebook)\n",
        "#   - top1_acc, topk_acc: your computed accuracy floats\n",
        "#   - top_k: the K you used for Top-K\n",
        "#   - results_df: DataFrame with per-image results including 'hit_top1'\n",
        "metrics = {\n",
        "    'Top-1 Accuracy': top1_acc,\n",
        "    f'Top-{top_k} Accuracy': topk_acc\n",
        "}\n",
        "\n",
        "# 1) Bar chart of overall accuracies\n",
        "plt.figure()\n",
        "plt.bar(metrics.keys(), metrics.values())\n",
        "plt.ylim(0, 1)\n",
        "plt.ylabel('Accuracy')\n",
        "plt.title('Overall Identification Accuracy')\n",
        "plt.show()\n",
        "\n",
        "# 2) Hit vs Miss counts for Top-1\n",
        "hit_count = results_df['hit_top1'].sum()\n",
        "miss_count = len(results_df) - hit_count\n",
        "\n",
        "plt.figure()\n",
        "plt.bar(['Hit Top-1', 'Miss Top-1'], [hit_count, miss_count])\n",
        "plt.ylabel('Number of Images')\n",
        "plt.title('Top-1 Hit vs. Miss Counts')\n",
        "plt.show()\n",
        "\n",
        "# 3) Summary report as a DataFrame\n",
        "report_df = pd.DataFrame({\n",
        "    'Metric': list(metrics.keys()),\n",
        "    'Accuracy': list(metrics.values())\n",
        "})\n",
        "\n",
        "# Display the report\n",
        "report_df\n"
      ],
      "metadata": {
        "id": "7biNm0jBtA31"
      },
      "execution_count": null,
      "outputs": []
    },
    {
      "cell_type": "code",
      "source": [
        "## Try it on a New Image\n",
        "from google.colab import files\n",
        "\n",
        "## Bottle Identification Function\n",
        "def identify_bottle(query_path, top_k=5):\n",
        "    qf = extract_features(query_path).reshape(1, -1)\n",
        "    D, I = index.search(qf, top_k)\n",
        "    results = []\n",
        "    for dist, idx in zip(D[0], I[0]):\n",
        "        bid = ids[idx]\n",
        "        info = bottle_df[bottle_df['id'] == bid].iloc[0].to_dict()\n",
        "        info['confidence'] = float(1.0 / (1.0 + dist))\n",
        "        results.append(info)\n",
        "    return pd.DataFrame(results)\n",
        "\n",
        "\n",
        "qry = files.upload()\n",
        "query_path = next(iter(qry.keys()))\n",
        "res_df = identify_bottle(query_path, top_k=5)\n",
        "res_df\n"
      ],
      "metadata": {
        "id": "2JyL3_EppKpb"
      },
      "execution_count": null,
      "outputs": []
    }
  ]
}